{
 "cells": [
  {
   "cell_type": "code",
   "execution_count": 3,
   "metadata": {},
   "outputs": [
    {
     "name": "stdout",
     "output_type": "stream",
     "text": [
      " * Serving Flask app \"__main__\" (lazy loading)\n",
      " * Environment: production\n",
      "   WARNING: This is a development server. Do not use it in a production deployment.\n",
      "   Use a production WSGI server instead.\n",
      " * Debug mode: off\n"
     ]
    },
    {
     "name": "stderr",
     "output_type": "stream",
     "text": [
      " * Running on http://127.0.0.1:5000/ (Press CTRL+C to quit)\n",
      "127.0.0.1 - - [04/May/2020 00:15:50] \"GET / HTTP/1.1\" 200 -\n",
      "127.0.0.1 - - [04/May/2020 00:15:50] \"GET /images/gwmono.jpg HTTP/1.1\" 404 -\n",
      "127.0.0.1 - - [04/May/2020 00:15:59] \"POST /response HTTP/1.1\" 200 -\n",
      "127.0.0.1 - - [04/May/2020 00:16:01] \"GET /get?msg=Hi%20 HTTP/1.1\" 200 -\n"
     ]
    },
    {
     "name": "stdout",
     "output_type": "stream",
     "text": [
      "User Input:Hi \n",
      "Chatbot Response:Hello\n",
      "navyamanepalli@gmail.com:Hi \n",
      "George:Hello\n"
     ]
    },
    {
     "name": "stderr",
     "output_type": "stream",
     "text": [
      "127.0.0.1 - - [04/May/2020 00:16:15] \"GET /get?msg=what%20is%20the%20food%20court%20in%20district%20eye%3F HTTP/1.1\" 200 -\n"
     ]
    },
    {
     "name": "stdout",
     "output_type": "stream",
     "text": [
      "User Input:what is the food court in district eye?\n",
      "Chatbot Response:Sorry, Can you be more specific?\n",
      "navyamanepalli@gmail.com:what is the food court in district eye?\n",
      "George:Sorry, Can you be more specific?\n",
      "User Input:quit\n",
      "Chatbot Response:Bye take care. See you soon :) \n",
      "navyamanepalli@gmail.com:quit\n",
      "George:Bye take care. See you soon :) \n"
     ]
    },
    {
     "name": "stderr",
     "output_type": "stream",
     "text": [
      "127.0.0.1 - - [04/May/2020 00:16:21] \"GET /get?msg=quit HTTP/1.1\" 200 -\n",
      "127.0.0.1 - - [04/May/2020 00:17:02] \"POST /feedback HTTP/1.1\" 200 -\n"
     ]
    },
    {
     "name": "stdout",
     "output_type": "stream",
     "text": [
      "1\n"
     ]
    },
    {
     "name": "stderr",
     "output_type": "stream",
     "text": [
      "127.0.0.1 - - [04/May/2020 00:17:02] \"GET /images/gwmono.jpg HTTP/1.1\" 404 -\n"
     ]
    }
   ],
   "source": [
    "import sqlite3\n",
    "import time\n",
    "import datetime\n",
    "import re\n",
    "import random\n",
    "from flask import Flask, request, url_for, redirect, render_template\n",
    "from chatbot_v3 import chatty\n",
    "\n",
    "conn = sqlite3.connect('tablessss.db', check_same_thread=False)\n",
    "c = conn.cursor()\n",
    "\n",
    "email =''\n",
    "\n",
    "app = Flask(__name__)\n",
    "\n",
    "@app.route('/home')\n",
    "def home():\n",
    "    return render_template(\"home.html\")\n",
    "\n",
    "@app.route('/')\n",
    "def form():\n",
    "\treturn render_template(\"form.html\")\n",
    "\n",
    "@app.route('/response', methods=['POST'])\n",
    "def response():\n",
    "    global email \n",
    "    email = request.form.get(\"email\")\n",
    "    return render_template(\"home.html\")\n",
    "    \n",
    "\n",
    "@app.route('/feedback' , methods=['POST'])\n",
    "def feedback():\n",
    "    time1 = time.time()\n",
    "    date1 = str(datetime.datetime.fromtimestamp(time1).strftime('%Y-%m-%d %H:%M:%S'))\n",
    "    rating = request.form['meter']\n",
    "    print(rating)\n",
    "    c.execute(\"INSERT INTO happymeter( hs_studentID,hm_rating,hm_datestamp) VALUES(?, ?,?)\",(email, rating,date1))\n",
    "    conn.commit()\n",
    "    return render_template(\"form.html\")\n",
    "\n",
    "@app.route(\"/get\")\n",
    "def get_bot_response():\n",
    "    userText = request.args.get('msg')\n",
    "    get_output=chatty(userText, email)\n",
    "    return (get_output)\n",
    "\n",
    "\n",
    "if __name__ == \"__main__\":\n",
    "    #app.debug = True\n",
    "    app.run()\n"
   ]
  },
  {
   "cell_type": "code",
   "execution_count": 6,
   "metadata": {},
   "outputs": [
    {
     "ename": "KeyboardInterrupt",
     "evalue": "",
     "output_type": "error",
     "traceback": [
      "\u001b[1;31m---------------------------------------------------------------------------\u001b[0m",
      "\u001b[1;31mKeyboardInterrupt\u001b[0m                         Traceback (most recent call last)",
      "\u001b[1;32m<ipython-input-6-808e2ce4e5af>\u001b[0m in \u001b[0;36m<module>\u001b[1;34m\u001b[0m\n\u001b[0;32m     36\u001b[0m     \u001b[1;31m# is pending to run or not\u001b[0m\u001b[1;33m\u001b[0m\u001b[1;33m\u001b[0m\u001b[1;33m\u001b[0m\u001b[0m\n\u001b[0;32m     37\u001b[0m     \u001b[0mschedule\u001b[0m\u001b[1;33m.\u001b[0m\u001b[0mrun_pending\u001b[0m\u001b[1;33m(\u001b[0m\u001b[1;33m)\u001b[0m\u001b[1;33m\u001b[0m\u001b[1;33m\u001b[0m\u001b[0m\n\u001b[1;32m---> 38\u001b[1;33m     \u001b[0mtime\u001b[0m\u001b[1;33m.\u001b[0m\u001b[0msleep\u001b[0m\u001b[1;33m(\u001b[0m\u001b[1;36m1\u001b[0m\u001b[1;33m)\u001b[0m\u001b[1;33m\u001b[0m\u001b[1;33m\u001b[0m\u001b[0m\n\u001b[0m",
      "\u001b[1;31mKeyboardInterrupt\u001b[0m: "
     ]
    }
   ],
   "source": [
    "import schedule \n",
    "import time \n",
    "from EmailPython1 import emailAdmin\n",
    "from unansweredQuestionsCountWeekly import weeklyCount\n",
    "from unansweredQuestionDumpDaily import unansweredDaily\n",
    "from on_OffCampus import onOffFootPrint\n",
    "from PieChart_Report2 import piechart_report2  \n",
    "from freq_area import freq_area\n",
    "from HappyMeterReport import happy_Meter\n",
    "# Functions setup \n",
    "\n",
    "      \n",
    "#def everyminute(): \n",
    "    #print(\"Schedule runs evry minute\") \n",
    "  \n",
    "# Task scheduling \n",
    "# After every 10mins geeks() is called.  \n",
    "#schedule.every(1).minutes.do(emailAdmin) \n",
    "#schedule.every().saturday.at(\"01:08\").do(emailAdmin) \n",
    "#schedule.every().day.at(\"10:30\").do(emailAdmin)\n",
    "schedule.every().day.at(\"00:47\").do(weeklyCount)  \n",
    "schedule.every().day.at(\"00:47\").do(unansweredDaily)  \n",
    "schedule.every().day.at(\"00:47\").do(onOffFootPrint)  \n",
    "schedule.every().day.at(\"00:47\").do(freq_area)  \n",
    "schedule.every().day.at(\"00:47\").do(piechart_report2) \n",
    "schedule.every().day.at(\"00:47\").do(happy_Meter)  \n",
    "  \n",
    "# Every tuesday at 18:00 sudo_placement() is called \n",
    "#schedule.every().tuesday.at(\"18:00\").do(sudo_placement) \n",
    "  \n",
    "# Loop so that the scheduling task \n",
    "# keeps on running all time. \n",
    "while True: \n",
    "  \n",
    "    # Checks whether a scheduled task  \n",
    "    # is pending to run or not \n",
    "    schedule.run_pending() \n",
    "    time.sleep(1)\n"
   ]
  },
  {
   "cell_type": "code",
   "execution_count": null,
   "metadata": {},
   "outputs": [],
   "source": []
  }
 ],
 "metadata": {
  "kernelspec": {
   "display_name": "Python 3",
   "language": "python",
   "name": "python3"
  },
  "language_info": {
   "codemirror_mode": {
    "name": "ipython",
    "version": 3
   },
   "file_extension": ".py",
   "mimetype": "text/x-python",
   "name": "python",
   "nbconvert_exporter": "python",
   "pygments_lexer": "ipython3",
   "version": "3.7.4"
  }
 },
 "nbformat": 4,
 "nbformat_minor": 2
}
