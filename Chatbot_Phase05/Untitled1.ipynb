{
 "cells": [
  {
   "cell_type": "code",
   "execution_count": 1,
   "metadata": {},
   "outputs": [],
   "source": [
    "import sqlite3\n",
    "import smtplib"
   ]
  },
  {
   "cell_type": "code",
   "execution_count": 2,
   "metadata": {},
   "outputs": [],
   "source": [
    "    conn = sqlite3.connect('tablessss.db', check_same_thread=False)\n",
    "    c = conn.cursor()\n",
    "    c.execute(\"select count(*) from history where hs_answer in ('Sorry, Can you be more specific?','Sorry I dint get you') and hs_datestamp > datetime('now', 'start of day', 'weekday 6', '-7 day')\")\n",
    "    rows = c.fetchall()\n",
    "    counter=rows[0][0]\n",
    "    emailBody = \" Hi Team,\\n\\n The number of unanswered questions for the past week is:\"+str(counter)+\"\\n\\n Best Regards, \\n Team ChatBot George\"\n",
    "    gmail_user = 'coolbot234567@gmail.com'\n",
    "    gmail_password = 'msist123'\n",
    "\n",
    "    sent_from = gmail_user\n",
    "    to = ['gwsb234567@gmail.com']\n",
    "    subject = \"Chatbot George Unanswered Questions Count Weekly\"\n",
    "    body = emailBody\n",
    "\n",
    "    email_text = \"\"\"\\\n",
    "From: %s\n",
    "To: %s\n",
    "Subject: %s\n",
    "\n",
    "%s\n",
    "\"\"\" % (sent_from, \", \".join(to), subject, body)\n",
    "\n",
    "    try:\n",
    "        server = smtplib.SMTP_SSL('smtp.gmail.com', 465)\n",
    "        server.ehlo()\n",
    "        server.login(gmail_user, gmail_password)\n",
    "        server.sendmail(sent_from, to, email_text)\n",
    "        server.close()\n",
    "\n",
    "        #print ('Email sent!')\n",
    "    except:\n",
    "        print ('Something went wrong...')\n",
    "    conn.close()"
   ]
  },
  {
   "cell_type": "code",
   "execution_count": 9,
   "metadata": {},
   "outputs": [],
   "source": [
    "import sqlite3\n",
    "import smtplib\n",
    "from EmailPython1 import emailAdmin\n",
    "from unansweredQuestionsCountWeekly import weeklyCount\n",
    "from unansweredQuestionDumpDaily import unansweredDaily\n",
    "from on_OffCampus import onOffFootPrint\n",
    "from PieChart_Report2 import piechart_report2  \n",
    "from freq_area import freq_area\n",
    "from HappyMeterReport import happy_Meter"
   ]
  },
  {
   "cell_type": "code",
   "execution_count": 6,
   "metadata": {},
   "outputs": [],
   "source": [
    "unansweredDaily()"
   ]
  },
  {
   "cell_type": "code",
   "execution_count": null,
   "metadata": {},
   "outputs": [],
   "source": [
    "    conn = sqlite3.connect('tablessss.db', check_same_thread=False)\n",
    "    c = conn.cursor()\n",
    "    c.execute(\"select count(*), hm_rating from happymeter group by hm_rating order by hm_rating\")\n",
    "\n",
    "    rows = c.fetchall() "
   ]
  },
  {
   "cell_type": "code",
   "execution_count": null,
   "metadata": {},
   "outputs": [],
   "source": [
    "    count1=rows[0][0]\n",
    "    count2=rows[1][0] \n",
    "    count3=rows[2][0]\n",
    "    count4=rows[3][0] \n",
    "    count5=0"
   ]
  },
  {
   "cell_type": "code",
   "execution_count": 7,
   "metadata": {},
   "outputs": [
    {
     "name": "stdout",
     "output_type": "stream",
     "text": [
      "2020-05-04 00:34:45.747700\n"
     ]
    }
   ],
   "source": [
    "import datetime\n",
    "print(datetime.datetime.now())"
   ]
  },
  {
   "cell_type": "code",
   "execution_count": 10,
   "metadata": {},
   "outputs": [
    {
     "data": {
      "image/png": "[encoded data removed]",
      "text/plain": [
       "<Figure size 432x288 with 1 Axes>"
      ]
     },
     "metadata": {},
     "output_type": "display_data"
    }
   ],
   "source": [
    "piechart_report2()"
   ]
  },
  {
   "cell_type": "code",
   "execution_count": null,
   "metadata": {},
   "outputs": [],
   "source": []
  }
 ],
 "metadata": {
  "kernelspec": {
   "display_name": "Python 3",
   "language": "python",
   "name": "python3"
  },
  "language_info": {
   "codemirror_mode": {
    "name": "ipython",
    "version": 3
   },
   "file_extension": ".py",
   "mimetype": "text/x-python",
   "name": "python",
   "nbconvert_exporter": "python",
   "pygments_lexer": "ipython3",
   "version": "3.7.4"
  }
 },
 "nbformat": 4,
 "nbformat_minor": 2
}
