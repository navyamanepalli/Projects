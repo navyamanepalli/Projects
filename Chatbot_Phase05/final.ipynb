{
 "cells": [
  {
   "cell_type": "code",
   "execution_count": null,
   "metadata": {},
   "outputs": [
    {
     "name": "stdout",
     "output_type": "stream",
     "text": [
      " * Serving Flask app \"__main__\" (lazy loading)\n",
      " * Environment: production\n",
      "   WARNING: This is a development server. Do not use it in a production deployment.\n",
      "   Use a production WSGI server instead.\n",
      " * Debug mode: off\n"
     ]
    },
    {
     "name": "stderr",
     "output_type": "stream",
     "text": [
      " * Running on http://127.0.0.1:5000/ (Press CTRL+C to quit)\n",
      "127.0.0.1 - - [05/May/2020 18:07:49] \"GET / HTTP/1.1\" 200 -\n",
      "127.0.0.1 - - [05/May/2020 18:07:49] \"GET /static/css2.css HTTP/1.1\" 200 -\n",
      "127.0.0.1 - - [05/May/2020 18:07:49] \"GET /static/css1.css HTTP/1.1\" 200 -\n",
      "127.0.0.1 - - [05/May/2020 18:07:49] \"GET /static/css4.css HTTP/1.1\" 200 -\n",
      "127.0.0.1 - - [05/May/2020 18:07:49] \"GET /static/css3.css HTTP/1.1\" 200 -\n",
      "127.0.0.1 - - [05/May/2020 18:07:49] \"GET /static/css5.css HTTP/1.1\" 200 -\n",
      "127.0.0.1 - - [05/May/2020 18:07:49] \"GET /static/css6.css HTTP/1.1\" 200 -\n",
      "127.0.0.1 - - [05/May/2020 18:07:49] \"GET /static/main_logo.jpg HTTP/1.1\" 200 -\n",
      "127.0.0.1 - - [05/May/2020 18:07:49] \"GET /images/gwmono.jpg HTTP/1.1\" 404 -\n",
      "127.0.0.1 - - [05/May/2020 18:07:57] \"POST /response HTTP/1.1\" 200 -\n",
      "127.0.0.1 - - [05/May/2020 18:07:58] \"GET /static/george.jpg HTTP/1.1\" 200 -\n",
      "127.0.0.1 - - [05/May/2020 18:08:01] \"GET /get?msg=Hi%20 HTTP/1.1\" 200 -\n"
     ]
    },
    {
     "name": "stdout",
     "output_type": "stream",
     "text": [
      "User Input:Hi \n",
      "Chatbot Response:Hello\n",
      "navyamanepalli@gmail.com:Hi \n",
      "George:Hello\n"
     ]
    },
    {
     "name": "stderr",
     "output_type": "stream",
     "text": [
      "127.0.0.1 - - [05/May/2020 18:08:07] \"GET /get?msg=What%20is%20your%20name%3F HTTP/1.1\" 200 -\n"
     ]
    },
    {
     "name": "stdout",
     "output_type": "stream",
     "text": [
      "User Input:What is your name?\n",
      "Chatbot Response:My name is Chatty and I'm a chatbot ?\n",
      "navyamanepalli@gmail.com:What is your name?\n",
      "George:My name is Chatty and I'm a chatbot ?\n"
     ]
    },
    {
     "name": "stderr",
     "output_type": "stream",
     "text": [
      "127.0.0.1 - - [05/May/2020 18:08:15] \"GET /get?msg=Thank%20you%20 HTTP/1.1\" 200 -\n"
     ]
    },
    {
     "name": "stdout",
     "output_type": "stream",
     "text": [
      "User Input:Thank you \n",
      "Chatbot Response:Welcome\n",
      "navyamanepalli@gmail.com:Thank you \n",
      "George:Welcome\n"
     ]
    },
    {
     "name": "stderr",
     "output_type": "stream",
     "text": [
      "127.0.0.1 - - [05/May/2020 18:10:24] \"GET /get?msg=Who%20is%20my%20academic%20advisor%3F HTTP/1.1\" 200 -\n"
     ]
    },
    {
     "name": "stdout",
     "output_type": "stream",
     "text": [
      "User Input:Who is my academic advisor?\n",
      "Chatbot Response:Brittany Johnson is the advisor for the MSIST department.\n",
      "Office hours:Mon-Fri, 9Am to 5 PM \n",
      "email:brittanyjohnson@gwu.edu \n",
      "Location:Duques Hall, School of Business 2201 G St. NW\n",
      "Suite 550 Washington, D.C. 20052\n",
      "navyamanepalli@gmail.com:Who is my academic advisor?\n",
      "George:Brittany Johnson is the advisor for the MSIST department.\n",
      "Office hours:Mon-Fri, 9Am to 5 PM \n",
      "email:brittanyjohnson@gwu.edu \n",
      "Location:Duques Hall, School of Business 2201 G St. NW\n",
      "Suite 550 Washington, D.C. 20052\n"
     ]
    },
    {
     "name": "stderr",
     "output_type": "stream",
     "text": [
      "127.0.0.1 - - [05/May/2020 18:10:51] \"GET /get?msg=How%20can%20I%20contact%20IT%20Support%3F HTTP/1.1\" 200 -\n"
     ]
    },
    {
     "name": "stdout",
     "output_type": "stream",
     "text": [
      "User Input:How can I contact IT Support?\n",
      "Chatbot Response:Phone: 202-994-GWIT (4948) Email-id: ithelp@gwu.edu \n",
      "navyamanepalli@gmail.com:How can I contact IT Support?\n",
      "George:Phone: 202-994-GWIT (4948) Email-id: ithelp@gwu.edu \n"
     ]
    },
    {
     "name": "stderr",
     "output_type": "stream",
     "text": [
      "127.0.0.1 - - [05/May/2020 18:11:23] \"GET /get?msg=What%20is%20the%20course%20schedule%3F HTTP/1.1\" 200 -\n"
     ]
    },
    {
     "name": "stdout",
     "output_type": "stream",
     "text": [
      "User Input:What is the course schedule?\n",
      "Chatbot Response:Based on the number of credits per course the count varies.However,with the permission of the advisor you can take extra credits.\n",
      "For example: Graduate students are advised to take 3 courses(each 3 credits) per semester inorder to not get overloaded with the coursework\n",
      "navyamanepalli@gmail.com:What is the course schedule?\n",
      "George:Based on the number of credits per course the count varies.However,with the permission of the advisor you can take extra credits.\n",
      "For example: Graduate students are advised to take 3 courses(each 3 credits) per semester inorder to not get overloaded with the coursework\n"
     ]
    },
    {
     "name": "stderr",
     "output_type": "stream",
     "text": [
      "127.0.0.1 - - [05/May/2020 18:11:41] \"GET /get?msg=What%20are%20the%20graduate%20courses%20available%3F HTTP/1.1\" 200 -\n"
     ]
    },
    {
     "name": "stdout",
     "output_type": "stream",
     "text": [
      "User Input:What are the graduate courses available?\n",
      "Chatbot Response:Please visit <a href=\"https://business.gwu.edu/academics/programs\">Academic programs</a>\n",
      "navyamanepalli@gmail.com:What are the graduate courses available?\n",
      "George:Please visit <a href=\"https://business.gwu.edu/academics/programs\">Academic programs</a>\n",
      "User Input:quit\n",
      "Chatbot Response:Bye take care. See you soon :) \n",
      "navyamanepalli@gmail.com:quit\n",
      "George:Bye take care. See you soon :) \n"
     ]
    },
    {
     "name": "stderr",
     "output_type": "stream",
     "text": [
      "127.0.0.1 - - [05/May/2020 18:12:04] \"GET /get?msg=quit HTTP/1.1\" 200 -\n",
      "127.0.0.1 - - [05/May/2020 18:12:04] \"GET /static/feedback.html HTTP/1.1\" 200 -\n",
      "127.0.0.1 - - [05/May/2020 18:12:04] \"GET /static/smiling.png HTTP/1.1\" 200 -\n",
      "127.0.0.1 - - [05/May/2020 18:12:04] \"GET /static/happy.png HTTP/1.1\" 200 -\n",
      "127.0.0.1 - - [05/May/2020 18:12:04] \"GET /static/neutral.png HTTP/1.1\" 200 -\n",
      "127.0.0.1 - - [05/May/2020 18:12:04] \"GET /static/ok.png HTTP/1.1\" 200 -\n",
      "127.0.0.1 - - [05/May/2020 18:12:04] \"GET /static/angry.png HTTP/1.1\" 200 -\n",
      "127.0.0.1 - - [05/May/2020 18:12:05] \"GET /favicon.ico HTTP/1.1\" 404 -\n",
      "127.0.0.1 - - [05/May/2020 18:12:24] \"POST /feedback HTTP/1.1\" 200 -\n"
     ]
    },
    {
     "name": "stdout",
     "output_type": "stream",
     "text": [
      "2\n"
     ]
    },
    {
     "name": "stderr",
     "output_type": "stream",
     "text": [
      "127.0.0.1 - - [05/May/2020 18:12:25] \"GET /images/gwmono.jpg HTTP/1.1\" 404 -\n",
      "127.0.0.1 - - [05/May/2020 18:12:30] \"POST /response HTTP/1.1\" 200 -\n",
      "127.0.0.1 - - [05/May/2020 18:12:41] \"GET /get?msg=What%20are%20the%20graduate%20courses%20available%3F HTTP/1.1\" 200 -\n"
     ]
    },
    {
     "name": "stdout",
     "output_type": "stream",
     "text": [
      "User Input:What are the graduate courses available?\n",
      "Chatbot Response:Please visit <a href=\"https://business.gwu.edu/academics/programs\">Academic programs</a>\n",
      "navya_28@gwu.edu:What are the graduate courses available?\n",
      "George:Please visit <a href=\"https://business.gwu.edu/academics/programs\">Academic programs</a>\n"
     ]
    },
    {
     "name": "stderr",
     "output_type": "stream",
     "text": [
      "127.0.0.1 - - [05/May/2020 18:12:50] \"GET /get?msg=How%20can%20I%20contact%20IT%20Support%3F HTTP/1.1\" 200 -\n"
     ]
    },
    {
     "name": "stdout",
     "output_type": "stream",
     "text": [
      "User Input:How can I contact IT Support?\n",
      "Chatbot Response:Phone: 202-994-GWIT (4948) Email-id: ithelp@gwu.edu \n",
      "navya_28@gwu.edu:How can I contact IT Support?\n",
      "George:Phone: 202-994-GWIT (4948) Email-id: ithelp@gwu.edu \n"
     ]
    },
    {
     "name": "stderr",
     "output_type": "stream",
     "text": [
      "127.0.0.1 - - [05/May/2020 18:12:57] \"GET /get?msg=Who%20is%20my%20academic%20advisor%3F HTTP/1.1\" 200 -\n"
     ]
    },
    {
     "name": "stdout",
     "output_type": "stream",
     "text": [
      "User Input:Who is my academic advisor?\n",
      "Chatbot Response:Brittany Johnson is the advisor for the MSIST department.\n",
      "Office hours:Mon-Fri, 9Am to 5 PM \n",
      "email:brittanyjohnson@gwu.edu \n",
      "Location:Duques Hall, School of Business 2201 G St. NW\n",
      "Suite 550 Washington, D.C. 20052\n",
      "navya_28@gwu.edu:Who is my academic advisor?\n",
      "George:Brittany Johnson is the advisor for the MSIST department.\n",
      "Office hours:Mon-Fri, 9Am to 5 PM \n",
      "email:brittanyjohnson@gwu.edu \n",
      "Location:Duques Hall, School of Business 2201 G St. NW\n",
      "Suite 550 Washington, D.C. 20052\n",
      "User Input:quit\n",
      "Chatbot Response:It was nice talking to you. See you soon :)\n",
      "navya_28@gwu.edu:quit\n",
      "George:It was nice talking to you. See you soon :)\n"
     ]
    },
    {
     "name": "stderr",
     "output_type": "stream",
     "text": [
      "127.0.0.1 - - [05/May/2020 18:15:58] \"GET /get?msg=quit HTTP/1.1\" 200 -\n",
      "127.0.0.1 - - [05/May/2020 18:16:03] \"POST /feedback HTTP/1.1\" 200 -\n"
     ]
    },
    {
     "name": "stdout",
     "output_type": "stream",
     "text": [
      "1\n"
     ]
    },
    {
     "name": "stderr",
     "output_type": "stream",
     "text": [
      "127.0.0.1 - - [05/May/2020 18:16:03] \"GET /images/gwmono.jpg HTTP/1.1\" 404 -\n"
     ]
    }
   ],
   "source": [
    "import sqlite3\n",
    "import time\n",
    "import datetime\n",
    "import re\n",
    "import random\n",
    "from flask import Flask, request, url_for, redirect, render_template\n",
    "from chatbot_v3 import chatty\n",
    "\n",
    "conn = sqlite3.connect('tablessss.db', check_same_thread=False)\n",
    "c = conn.cursor()\n",
    "\n",
    "email =''\n",
    "\n",
    "app = Flask(__name__)\n",
    "\n",
    "@app.route('/home')\n",
    "def home():\n",
    "    return render_template(\"home.html\")\n",
    "\n",
    "@app.route('/')\n",
    "def form():\n",
    "\treturn render_template(\"form.html\")\n",
    "\n",
    "@app.route('/response', methods=['POST'])\n",
    "def response():\n",
    "    global email \n",
    "    email = request.form.get(\"email\")\n",
    "    return render_template(\"home.html\")\n",
    "    \n",
    "\n",
    "@app.route('/feedback' , methods=['POST'])\n",
    "def feedback():\n",
    "    time1 = time.time()\n",
    "    date1 = str(datetime.datetime.fromtimestamp(time1).strftime('%Y-%m-%d %H:%M:%S'))\n",
    "    rating = request.form['meter']\n",
    "    print(rating)\n",
    "    c.execute(\"INSERT INTO happymeter( hs_studentID,hm_rating,hm_datestamp) VALUES(?, ?,?)\",(email, rating,date1))\n",
    "    conn.commit()\n",
    "    return render_template(\"form.html\")\n",
    "\n",
    "@app.route(\"/get\")\n",
    "def get_bot_response():\n",
    "    userText = request.args.get('msg')\n",
    "    get_output=chatty(userText, email)\n",
    "    return (get_output)\n",
    "\n",
    "\n",
    "if __name__ == \"__main__\":\n",
    "    #app.debug = True\n",
    "    app.run()\n"
   ]
  },
  {
   "cell_type": "code",
   "execution_count": null,
   "metadata": {},
   "outputs": [],
   "source": []
  }
 ],
 "metadata": {
  "kernelspec": {
   "display_name": "Python 3",
   "language": "python",
   "name": "python3"
  },
  "language_info": {
   "codemirror_mode": {
    "name": "ipython",
    "version": 3
   },
   "file_extension": ".py",
   "mimetype": "text/x-python",
   "name": "python",
   "nbconvert_exporter": "python",
   "pygments_lexer": "ipython3",
   "version": "3.7.4"
  }
 },
 "nbformat": 4,
 "nbformat_minor": 2
}
