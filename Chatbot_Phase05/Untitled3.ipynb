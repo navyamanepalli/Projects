{
 "cells": [
  {
   "cell_type": "code",
   "execution_count": 1,
   "metadata": {},
   "outputs": [],
   "source": [
    "from db_pull import db_csv\n",
    "from EmailPython1 import emailAdmin\n",
    "\n",
    "def unansweredDaily():\n",
    "    \n",
    "    db_csv(\"select hs_question, hs_studentID from history where strftime('%Y-%m-%d', hs_datestamp) = strftime('%Y-%m-%d','now','localtime') and hs_answer in ('Sorry, Can you be more specific?','Sorry I dint get you')\",\"AnalyticalReports/UnansweredQuestions.csv\")\n",
    "    emailAdmin(\"gwsb234567@gmail.com\",\"Unanswered Questions for the Day\",\"AnalyticalReports/UnansweredQuestions.csv\",\"Hi Team,\\n\\n The report for unanswered questions is attached here.\\nReport includes email-id and the question from the student. \\n\\n Best Regards, \\n Team ChatBot George\")"
   ]
  },
  {
   "cell_type": "code",
   "execution_count": 2,
   "metadata": {},
   "outputs": [],
   "source": [
    "unansweredDaily()"
   ]
  },
  {
   "cell_type": "code",
   "execution_count": 3,
   "metadata": {},
   "outputs": [],
   "source": [
    "#weeklyCount()\n",
    "import sqlite3\n",
    "import smtplib\n",
    "conn = sqlite3.connect('tablessss.db', check_same_thread=False)\n",
    "c = conn.cursor()\n",
    "c.execute(\"select count(*) from history where hs_answer in ('Sorry, Can you be more specific?','Sorry I dint get you') and hs_datestamp > datetime('now', 'start of day', 'weekday 6', '-7 day')\")\n",
    "rows = c.fetchall()\n",
    "counter=rows[0][0]\n",
    "emailBody = \" Hi Team,\\n\\n The number of unanswered questions for the past week is:\"+str(counter)+\"\\n\\n Best Regards, \\n Team ChatBot George\"\n",
    "gmail_user = 'coolbot234567@gmail.com'\n",
    "gmail_password = 'msist123'\n",
    "\n",
    "sent_from = gmail_user\n",
    "to = ['gwsb234567@gmail.com']\n",
    "subject = \"Chatbot George Unanswered Questions Count Weekly\"\n",
    "body = emailBody\n",
    "\n",
    "email_text = \"\"\"\\\n",
    "From: %s\n",
    "To: %s\n",
    "Subject: %s\n",
    "\n",
    "%s\n",
    "\"\"\" % (sent_from, \", \".join(to), subject, body)\n",
    "\n",
    "try:\n",
    "    server = smtplib.SMTP_SSL('smtp.gmail.com', 465)\n",
    "    server.ehlo()\n",
    "    server.login(gmail_user, gmail_password)\n",
    "    server.sendmail(sent_from, to, email_text)\n",
    "    server.close()\n",
    "\n",
    "            #print ('Email sent!')\n",
    "except:\n",
    "    print ('Something went wrong...')\n",
    "conn.close()"
   ]
  },
  {
   "cell_type": "code",
   "execution_count": null,
   "metadata": {},
   "outputs": [],
   "source": []
  }
 ],
 "metadata": {
  "kernelspec": {
   "display_name": "Python 3",
   "language": "python",
   "name": "python3"
  },
  "language_info": {
   "codemirror_mode": {
    "name": "ipython",
    "version": 3
   },
   "file_extension": ".py",
   "mimetype": "text/x-python",
   "name": "python",
   "nbconvert_exporter": "python",
   "pygments_lexer": "ipython3",
   "version": "3.7.4"
  }
 },
 "nbformat": 4,
 "nbformat_minor": 2
}
