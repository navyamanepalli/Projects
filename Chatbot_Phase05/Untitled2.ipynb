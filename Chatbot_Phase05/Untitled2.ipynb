{
 "cells": [
  {
   "cell_type": "code",
   "execution_count": null,
   "metadata": {},
   "outputs": [
    {
     "name": "stdout",
     "output_type": "stream",
     "text": [
      " * Serving Flask app \"__main__\" (lazy loading)\n",
      " * Environment: production\n",
      "   WARNING: This is a development server. Do not use it in a production deployment.\n",
      "   Use a production WSGI server instead.\n",
      " * Debug mode: off\n"
     ]
    },
    {
     "name": "stderr",
     "output_type": "stream",
     "text": [
      " * Running on http://127.0.0.1:5000/ (Press CTRL+C to quit)\n",
      "127.0.0.1 - - [04/May/2020 17:02:09] \"GET / HTTP/1.1\" 200 -\n",
      "127.0.0.1 - - [04/May/2020 17:02:09] \"GET /images/gwmono.jpg HTTP/1.1\" 404 -\n",
      "127.0.0.1 - - [04/May/2020 17:02:22] \"POST /response HTTP/1.1\" 200 -\n"
     ]
    },
    {
     "name": "stdout",
     "output_type": "stream",
     "text": [
      "User Input:Hi \n",
      "Chatbot Response:Hey there\n"
     ]
    },
    {
     "name": "stderr",
     "output_type": "stream",
     "text": [
      "[2020-05-04 17:02:30,326] ERROR in app: Exception on /get [GET]\n",
      "Traceback (most recent call last):\n",
      "  File \"C:\\Users\\Navya Manepalli\\Anaconda3\\lib\\site-packages\\flask\\app.py\", line 2446, in wsgi_app\n",
      "    response = self.full_dispatch_request()\n",
      "  File \"C:\\Users\\Navya Manepalli\\Anaconda3\\lib\\site-packages\\flask\\app.py\", line 1951, in full_dispatch_request\n",
      "    rv = self.handle_user_exception(e)\n",
      "  File \"C:\\Users\\Navya Manepalli\\Anaconda3\\lib\\site-packages\\flask\\app.py\", line 1820, in handle_user_exception\n",
      "    reraise(exc_type, exc_value, tb)\n",
      "  File \"C:\\Users\\Navya Manepalli\\Anaconda3\\lib\\site-packages\\flask\\_compat.py\", line 39, in reraise\n",
      "    raise value\n",
      "  File \"C:\\Users\\Navya Manepalli\\Anaconda3\\lib\\site-packages\\flask\\app.py\", line 1949, in full_dispatch_request\n",
      "    rv = self.dispatch_request()\n",
      "  File \"C:\\Users\\Navya Manepalli\\Anaconda3\\lib\\site-packages\\flask\\app.py\", line 1935, in dispatch_request\n",
      "    return self.view_functions[rule.endpoint](**req.view_args)\n",
      "  File \"<ipython-input-11-73a116ae8f66>\", line 44, in get_bot_response\n",
      "    get_output=chatty(userText, email)\n",
      "  File \"C:\\Users\\Navya Manepalli\\Chatbot_Phase05\\chatbot_v3.py\", line 337, in chatty\n",
      "    output_response=chat.converse(user_input,email)\n",
      "  File \"C:\\Users\\Navya Manepalli\\Chatbot_Phase05\\chatbot_v3.py\", line 330, in converse\n",
      "    insert_data(date1, email, query, reply)\n",
      "  File \"C:\\Users\\Navya Manepalli\\Chatbot_Phase05\\chatbot_v3.py\", line 309, in insert_data\n",
      "    c.execute(\"INSERT INTO history (hs_datestamp,hs_studentID,hs_question, hs_answer) VALUES(?, ?, ?, ?)\",(dat, eml, que, ans))\n",
      "sqlite3.OperationalError: database is locked\n",
      "127.0.0.1 - - [04/May/2020 17:02:30] \"GET /get?msg=Hi%20 HTTP/1.1\" 500 -\n"
     ]
    }
   ],
   "source": [
    "import sqlite3\n",
    "import time\n",
    "import datetime\n",
    "import re\n",
    "import random\n",
    "from flask import Flask, request, url_for, redirect, render_template\n",
    "from chatbot_v3 import chatty\n",
    "\n",
    "conn = sqlite3.connect('tablessss.db', check_same_thread=False)\n",
    "c = conn.cursor()\n",
    "\n",
    "email =''\n",
    "\n",
    "app = Flask(__name__)\n",
    "\n",
    "@app.route('/home')\n",
    "def home():\n",
    "    return render_template(\"home.html\")\n",
    "\n",
    "@app.route('/')\n",
    "def form():\n",
    "\treturn render_template(\"form.html\")\n",
    "\n",
    "@app.route('/response', methods=['POST'])\n",
    "def response():\n",
    "    global email \n",
    "    email = request.form.get(\"email\")\n",
    "    return render_template(\"home.html\")\n",
    "    \n",
    "\n",
    "@app.route('/feedback' , methods=['POST'])\n",
    "def feedback():\n",
    "    time1 = time.time()\n",
    "    date1 = str(datetime.datetime.fromtimestamp(time1).strftime('%Y-%m-%d %H:%M:%S'))\n",
    "    rating = request.form['meter']\n",
    "    print(rating)\n",
    "    c.execute(\"INSERT INTO happymeter( hs_studentID,hm_rating,hm_datestamp) VALUES(?, ?,?)\",(email, rating,date1))\n",
    "    conn.commit()\n",
    "    return render_template(\"form.html\")\n",
    "\n",
    "@app.route(\"/get\")\n",
    "def get_bot_response():\n",
    "    userText = request.args.get('msg')\n",
    "    get_output=chatty(userText, email)\n",
    "    return (get_output)\n",
    "\n",
    "\n",
    "if __name__ == \"__main__\":\n",
    "    #app.debug = True\n",
    "    app.run()\n"
   ]
  },
  {
   "cell_type": "code",
   "execution_count": null,
   "metadata": {},
   "outputs": [],
   "source": [
    "import schedule \n",
    "import time \n",
    "import sqlite3\n",
    "import datetime\n",
    "from EmailPython1 import emailAdmin\n",
    "from unansweredQuestionsCountWeekly import weeklyCount\n",
    "from unansweredQuestionDumpDaily import unansweredDaily\n",
    "from on_OffCampus import onOffFootPrint\n",
    "from PieChart_Report2 import piechart_report2  \n",
    "from freq_area import freq_area\n",
    "from HappyMeterReport import happy_Meter\n",
    "# Functions setup \n",
    "\n",
    "      \n",
    "#def everyminute(): \n",
    "    #print(\"Schedule runs evry minute\") \n",
    "  \n",
    "# Task scheduling \n",
    "# After every 10mins geeks() is called.  \n",
    "#schedule.every(1).minutes.do(emailAdmin) \n",
    "#schedule.every().saturday.at(\"01:08\").do(emailAdmin) \n",
    "#schedule.every().day.at(\"10:30\").do(emailAdmin)\n",
    "schedule.every().day.at(\"16:46\").do(weeklyCount)  \n",
    "schedule.every().day.at(\"16:46\").do(unansweredDaily)  \n",
    "schedule.every().day.at(\"16:46\").do(onOffFootPrint)  \n",
    "schedule.every().day.at(\"16:46\").do(freq_area)  \n",
    "schedule.every().day.at(\"16:46\").do(piechart_report2) \n",
    "schedule.every().day.at(\"16:46\").do(happy_Meter)  \n",
    "  \n",
    "# Every tuesday at 18:00 sudo_placement() is called \n",
    "#schedule.every().tuesday.at(\"18:00\").do(sudo_placement) \n",
    "  \n",
    "# Loop so that the scheduling task \n",
    "# keeps on running all time. \n",
    "while True: \n",
    "  \n",
    "    # Checks whether a scheduled task  \n",
    "    # is pending to run or not \n",
    "    schedule.run_pending() \n",
    "    time.sleep(1)\n"
   ]
  },
  {
   "cell_type": "code",
   "execution_count": 5,
   "metadata": {},
   "outputs": [],
   "source": [
    "import schedule \n",
    "import time \n",
    "import sqlite3\n",
    "import datetime\n",
    "from EmailPython1 import emailAdmin\n",
    "from unansweredQuestionsCountWeekly import weeklyCount\n",
    "from unansweredQuestionDumpDaily import unansweredDaily\n",
    "from on_OffCampus import onOffFootPrint\n",
    "from PieChart_Report2 import piechart_report2  \n",
    "from freq_area import freq_area\n",
    "from HappyMeterReport import happy_Meter"
   ]
  },
  {
   "cell_type": "code",
   "execution_count": 6,
   "metadata": {},
   "outputs": [],
   "source": [
    "weeklyCount()"
   ]
  },
  {
   "cell_type": "code",
   "execution_count": 10,
   "metadata": {},
   "outputs": [],
   "source": [
    "unansweredDaily()"
   ]
  },
  {
   "cell_type": "code",
   "execution_count": 4,
   "metadata": {},
   "outputs": [
    {
     "data": {
      "image/png": "[encoded data removed]",
      "text/plain": [
       "<Figure size 432x288 with 1 Axes>"
      ]
     },
     "metadata": {
      "needs_background": "light"
     },
     "output_type": "display_data"
    }
   ],
   "source": [
    "onOffFootPrint()"
   ]
  },
  {
   "cell_type": "code",
   "execution_count": 7,
   "metadata": {},
   "outputs": [],
   "source": [
    "freq_area()"
   ]
  },
  {
   "cell_type": "code",
   "execution_count": 8,
   "metadata": {},
   "outputs": [
    {
     "data": {
      "image/png": "[encoded data removed]",
      "text/plain": [
       "<Figure size 432x288 with 1 Axes>"
      ]
     },
     "metadata": {},
     "output_type": "display_data"
    }
   ],
   "source": [
    "\n",
    "piechart_report2()"
   ]
  },
  {
   "cell_type": "code",
   "execution_count": 9,
   "metadata": {},
   "outputs": [
    {
     "data": {
      "image/png": "[encoded data removed]",
      "text/plain": [
       "<Figure size 864x576 with 1 Axes>"
      ]
     },
     "metadata": {
      "needs_background": "light"
     },
     "output_type": "display_data"
    }
   ],
   "source": [
    "happy_Meter()"
   ]
  },
  {
   "cell_type": "code",
   "execution_count": null,
   "metadata": {},
   "outputs": [],
   "source": []
  }
 ],
 "metadata": {
  "kernelspec": {
   "display_name": "Python 3",
   "language": "python",
   "name": "python3"
  },
  "language_info": {
   "codemirror_mode": {
    "name": "ipython",
    "version": 3
   },
   "file_extension": ".py",
   "mimetype": "text/x-python",
   "name": "python",
   "nbconvert_exporter": "python",
   "pygments_lexer": "ipython3",
   "version": "3.7.4"
  }
 },
 "nbformat": 4,
 "nbformat_minor": 2
}
