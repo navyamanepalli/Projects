{
 "cells": [
  {
   "cell_type": "markdown",
   "metadata": {},
   "source": [
    "# Exploratory Data Analysis"
   ]
  },
  {
   "cell_type": "code",
   "execution_count": 3,
   "metadata": {},
   "outputs": [],
   "source": [
    "import numpy as np \n",
    "import pandas as pd"
   ]
  },
  {
   "cell_type": "code",
   "execution_count": 4,
   "metadata": {},
   "outputs": [],
   "source": [
    "heavy_data=pd.read_csv(\"C:/Users/Navya Manepalli/Downloads/shuffled-full-set-hashed/shuffled-full-set-hashed.csv\", names=['doc_cat','data'])"
   ]
  },
  {
   "cell_type": "code",
   "execution_count": 5,
   "metadata": {
    "scrolled": true
   },
   "outputs": [
    {
     "data": {
      "text/html": [
       "<div>\n",
       "<style scoped>\n",
       "    .dataframe tbody tr th:only-of-type {\n",
       "        vertical-align: middle;\n",
       "    }\n",
       "\n",
       "    .dataframe tbody tr th {\n",
       "        vertical-align: top;\n",
       "    }\n",
       "\n",
       "    .dataframe thead th {\n",
       "        text-align: right;\n",
       "    }\n",
       "</style>\n",
       "<table border=\"1\" class=\"dataframe\">\n",
       "  <thead>\n",
       "    <tr style=\"text-align: right;\">\n",
       "      <th></th>\n",
       "      <th>doc_cat</th>\n",
       "      <th>data</th>\n",
       "    </tr>\n",
       "  </thead>\n",
       "  <tbody>\n",
       "    <tr>\n",
       "      <th>0</th>\n",
       "      <td>DELETION OF INTEREST</td>\n",
       "      <td>e04a09c87692 d6b72e591b91 5d066f0246f1 ed41171...</td>\n",
       "    </tr>\n",
       "    <tr>\n",
       "      <th>1</th>\n",
       "      <td>RETURNED CHECK</td>\n",
       "      <td>a3b334c6eefd be95012ebf2b 41d67080e078 ff1c26e...</td>\n",
       "    </tr>\n",
       "    <tr>\n",
       "      <th>2</th>\n",
       "      <td>BILL</td>\n",
       "      <td>586242498a88 9ccf259ca087 54709b24b45f 6bf9c0c...</td>\n",
       "    </tr>\n",
       "    <tr>\n",
       "      <th>3</th>\n",
       "      <td>BILL</td>\n",
       "      <td>cd50e861f48b 6ca2dd348663 d38820625542 f077614...</td>\n",
       "    </tr>\n",
       "    <tr>\n",
       "      <th>4</th>\n",
       "      <td>BILL</td>\n",
       "      <td>9db5536263d8 1c303d15eb65 3f89b4673455 b73e657...</td>\n",
       "    </tr>\n",
       "  </tbody>\n",
       "</table>\n",
       "</div>"
      ],
      "text/plain": [
       "                doc_cat                                               data\n",
       "0  DELETION OF INTEREST  e04a09c87692 d6b72e591b91 5d066f0246f1 ed41171...\n",
       "1        RETURNED CHECK  a3b334c6eefd be95012ebf2b 41d67080e078 ff1c26e...\n",
       "2                  BILL  586242498a88 9ccf259ca087 54709b24b45f 6bf9c0c...\n",
       "3                  BILL  cd50e861f48b 6ca2dd348663 d38820625542 f077614...\n",
       "4                  BILL  9db5536263d8 1c303d15eb65 3f89b4673455 b73e657..."
      ]
     },
     "execution_count": 5,
     "metadata": {},
     "output_type": "execute_result"
    }
   ],
   "source": [
    "#checking top 5 rows \n",
    "heavy_data.head()"
   ]
  },
  {
   "cell_type": "code",
   "execution_count": 6,
   "metadata": {},
   "outputs": [
    {
     "data": {
      "text/html": [
       "<div>\n",
       "<style scoped>\n",
       "    .dataframe tbody tr th:only-of-type {\n",
       "        vertical-align: middle;\n",
       "    }\n",
       "\n",
       "    .dataframe tbody tr th {\n",
       "        vertical-align: top;\n",
       "    }\n",
       "\n",
       "    .dataframe thead th {\n",
       "        text-align: right;\n",
       "    }\n",
       "</style>\n",
       "<table border=\"1\" class=\"dataframe\">\n",
       "  <thead>\n",
       "    <tr style=\"text-align: right;\">\n",
       "      <th></th>\n",
       "      <th>doc_cat</th>\n",
       "      <th>data</th>\n",
       "    </tr>\n",
       "  </thead>\n",
       "  <tbody>\n",
       "    <tr>\n",
       "      <th>62199</th>\n",
       "      <td>CANCELLATION NOTICE</td>\n",
       "      <td>6bf9c0cb01b4 52102c70348d 1b6d0614f2c7 246ee0c...</td>\n",
       "    </tr>\n",
       "    <tr>\n",
       "      <th>62200</th>\n",
       "      <td>BINDER</td>\n",
       "      <td>816aed74475e 288ccf089872 fe33912c5732 5d00ab6...</td>\n",
       "    </tr>\n",
       "    <tr>\n",
       "      <th>62201</th>\n",
       "      <td>BILL</td>\n",
       "      <td>f95d0bea231b 894305951372 c9a53ea6e219 8f6018d...</td>\n",
       "    </tr>\n",
       "    <tr>\n",
       "      <th>62202</th>\n",
       "      <td>CANCELLATION NOTICE</td>\n",
       "      <td>5ee06767bc0f 106de4332a24 46a0c35e916c 54709b2...</td>\n",
       "    </tr>\n",
       "    <tr>\n",
       "      <th>62203</th>\n",
       "      <td>CANCELLATION NOTICE</td>\n",
       "      <td>586242498a88 21e314d3afcc 818a7ff3bf29 4e43b72...</td>\n",
       "    </tr>\n",
       "  </tbody>\n",
       "</table>\n",
       "</div>"
      ],
      "text/plain": [
       "                   doc_cat                                               data\n",
       "62199  CANCELLATION NOTICE  6bf9c0cb01b4 52102c70348d 1b6d0614f2c7 246ee0c...\n",
       "62200               BINDER  816aed74475e 288ccf089872 fe33912c5732 5d00ab6...\n",
       "62201                 BILL  f95d0bea231b 894305951372 c9a53ea6e219 8f6018d...\n",
       "62202  CANCELLATION NOTICE  5ee06767bc0f 106de4332a24 46a0c35e916c 54709b2...\n",
       "62203  CANCELLATION NOTICE  586242498a88 21e314d3afcc 818a7ff3bf29 4e43b72..."
      ]
     },
     "execution_count": 6,
     "metadata": {},
     "output_type": "execute_result"
    }
   ],
   "source": [
    "#checking bottom 5 rows \n",
    "heavy_data.tail()"
   ]
  },
  {
   "cell_type": "code",
   "execution_count": 7,
   "metadata": {},
   "outputs": [
    {
     "data": {
      "text/html": [
       "<div>\n",
       "<style scoped>\n",
       "    .dataframe tbody tr th:only-of-type {\n",
       "        vertical-align: middle;\n",
       "    }\n",
       "\n",
       "    .dataframe tbody tr th {\n",
       "        vertical-align: top;\n",
       "    }\n",
       "\n",
       "    .dataframe thead th {\n",
       "        text-align: right;\n",
       "    }\n",
       "</style>\n",
       "<table border=\"1\" class=\"dataframe\">\n",
       "  <thead>\n",
       "    <tr style=\"text-align: right;\">\n",
       "      <th></th>\n",
       "      <th>doc_cat</th>\n",
       "      <th>data</th>\n",
       "    </tr>\n",
       "  </thead>\n",
       "  <tbody>\n",
       "    <tr>\n",
       "      <th>count</th>\n",
       "      <td>62204</td>\n",
       "      <td>62159</td>\n",
       "    </tr>\n",
       "    <tr>\n",
       "      <th>unique</th>\n",
       "      <td>14</td>\n",
       "      <td>60176</td>\n",
       "    </tr>\n",
       "    <tr>\n",
       "      <th>top</th>\n",
       "      <td>BILL</td>\n",
       "      <td>bf064c332aa1 079935e500e5 1a4dd36c6de0 7efa289...</td>\n",
       "    </tr>\n",
       "    <tr>\n",
       "      <th>freq</th>\n",
       "      <td>18968</td>\n",
       "      <td>11</td>\n",
       "    </tr>\n",
       "  </tbody>\n",
       "</table>\n",
       "</div>"
      ],
      "text/plain": [
       "       doc_cat                                               data\n",
       "count    62204                                              62159\n",
       "unique      14                                              60176\n",
       "top       BILL  bf064c332aa1 079935e500e5 1a4dd36c6de0 7efa289...\n",
       "freq     18968                                                 11"
      ]
     },
     "execution_count": 7,
     "metadata": {},
     "output_type": "execute_result"
    }
   ],
   "source": [
    "heavy_data.describe()"
   ]
  },
  {
   "cell_type": "code",
   "execution_count": 9,
   "metadata": {},
   "outputs": [
    {
     "data": {
      "image/png": "[encoded data removed]",
      "text/plain": [
       "<Figure size 864x288 with 1 Axes>"
      ]
     },
     "metadata": {
      "needs_background": "light"
     },
     "output_type": "display_data"
    }
   ],
   "source": [
    "import seaborn as sns\n",
    "import matplotlib.pyplot as plt\n",
    "\n",
    "count_cat = heavy_data['doc_cat'].value_counts()\n",
    "plt.figure(figsize=(12,4))\n",
    "g = sns.barplot(count_cat.index, count_cat.values)\n",
    "plt.ylabel('Number of Records', fontsize=12)\n",
    "plt.xlabel('Document Classifier Type', fontsize=12)\n",
    "plt.xticks(rotation=90)\n",
    "plt.show()\n"
   ]
  },
  {
   "cell_type": "code",
   "execution_count": 8,
   "metadata": {},
   "outputs": [
    {
     "name": "stdout",
     "output_type": "stream",
     "text": [
      "                    doc_cat\n",
      "0      DELETION OF INTEREST\n",
      "1            RETURNED CHECK\n",
      "2                      BILL\n",
      "3             POLICY CHANGE\n",
      "4       CANCELLATION NOTICE\n",
      "5               DECLARATION\n",
      "6        CHANGE ENDORSEMENT\n",
      "7        NON-RENEWAL NOTICE\n",
      "8                    BINDER\n",
      "9      REINSTATEMENT NOTICE\n",
      "10        EXPIRATION NOTICE\n",
      "11  INTENT TO CANCEL NOTICE\n",
      "12              APPLICATION\n",
      "13              BILL BINDER\n"
     ]
    }
   ],
   "source": [
    "import pandasql as ps\n",
    "\n",
    "\n",
    "q1 = \"\"\"select distinct doc_cat from heavy_data\"\"\"\n",
    "\n",
    "print(ps.sqldf(q1, locals()))"
   ]
  },
  {
   "cell_type": "code",
   "execution_count": 9,
   "metadata": {},
   "outputs": [
    {
     "data": {
      "text/plain": [
       "array(['DELETION OF INTEREST', 'RETURNED CHECK', 'BILL', 'POLICY CHANGE',\n",
       "       'CANCELLATION NOTICE', 'DECLARATION', 'CHANGE ENDORSEMENT',\n",
       "       'NON-RENEWAL NOTICE', 'BINDER', 'REINSTATEMENT NOTICE',\n",
       "       'EXPIRATION NOTICE', 'INTENT TO CANCEL NOTICE', 'APPLICATION',\n",
       "       'BILL BINDER'], dtype=object)"
      ]
     },
     "execution_count": 9,
     "metadata": {},
     "output_type": "execute_result"
    }
   ],
   "source": [
    "heavy_data.doc_cat.unique()"
   ]
  },
  {
   "cell_type": "code",
   "execution_count": 10,
   "metadata": {},
   "outputs": [
    {
     "data": {
      "text/plain": [
       "BILL                       18968\n",
       "POLICY CHANGE              10627\n",
       "CANCELLATION NOTICE         9731\n",
       "BINDER                      8973\n",
       "DELETION OF INTEREST        4826\n",
       "REINSTATEMENT NOTICE        4368\n",
       "DECLARATION                  968\n",
       "CHANGE ENDORSEMENT           889\n",
       "RETURNED CHECK               749\n",
       "EXPIRATION NOTICE            734\n",
       "NON-RENEWAL NOTICE           624\n",
       "BILL BINDER                  289\n",
       "INTENT TO CANCEL NOTICE      229\n",
       "APPLICATION                  229\n",
       "Name: doc_cat, dtype: int64"
      ]
     },
     "execution_count": 10,
     "metadata": {},
     "output_type": "execute_result"
    }
   ],
   "source": [
    "heavy_data.doc_cat.value_counts()"
   ]
  },
  {
   "cell_type": "code",
   "execution_count": 12,
   "metadata": {},
   "outputs": [
    {
     "name": "stdout",
     "output_type": "stream",
     "text": [
      "Empty DataFrame\n",
      "Columns: [doc_cat, data]\n",
      "Index: []\n"
     ]
    }
   ],
   "source": [
    "q1 = \"\"\"select * from heavy_data where doc_cat is null\"\"\"\n",
    "\n",
    "print(ps.sqldf(q1, locals()))"
   ]
  },
  {
   "cell_type": "code",
   "execution_count": 13,
   "metadata": {
    "scrolled": true
   },
   "outputs": [
    {
     "name": "stdout",
     "output_type": "stream",
     "text": [
      "                 doc_cat  data\n",
      "0                 BINDER  None\n",
      "1          POLICY CHANGE  None\n",
      "2                 BINDER  None\n",
      "3                 BINDER  None\n",
      "4                 BINDER  None\n",
      "5                 BINDER  None\n",
      "6          POLICY CHANGE  None\n",
      "7                 BINDER  None\n",
      "8          POLICY CHANGE  None\n",
      "9          POLICY CHANGE  None\n",
      "10                  BILL  None\n",
      "11                BINDER  None\n",
      "12                  BILL  None\n",
      "13         POLICY CHANGE  None\n",
      "14                  BILL  None\n",
      "15                BINDER  None\n",
      "16                BINDER  None\n",
      "17  REINSTATEMENT NOTICE  None\n",
      "18                BINDER  None\n",
      "19                  BILL  None\n",
      "20                BINDER  None\n",
      "21         POLICY CHANGE  None\n",
      "22                  BILL  None\n",
      "23                BINDER  None\n",
      "24           DECLARATION  None\n",
      "25                BINDER  None\n",
      "26         POLICY CHANGE  None\n",
      "27                BINDER  None\n",
      "28   CANCELLATION NOTICE  None\n",
      "29         POLICY CHANGE  None\n",
      "30                  BILL  None\n",
      "31                BINDER  None\n",
      "32                  BILL  None\n",
      "33                  BILL  None\n",
      "34   CANCELLATION NOTICE  None\n",
      "35                BINDER  None\n",
      "36                BINDER  None\n",
      "37                BINDER  None\n",
      "38         POLICY CHANGE  None\n",
      "39         POLICY CHANGE  None\n",
      "40                BINDER  None\n",
      "41                  BILL  None\n",
      "42                BINDER  None\n",
      "43         POLICY CHANGE  None\n",
      "44                BINDER  None\n"
     ]
    }
   ],
   "source": [
    "q1 = \"\"\"select * from heavy_data where data is null\"\"\"\n",
    "\n",
    "print(ps.sqldf(q1, locals()))"
   ]
  },
  {
   "cell_type": "code",
   "execution_count": 14,
   "metadata": {},
   "outputs": [
    {
     "data": {
      "text/plain": [
       "True"
      ]
     },
     "execution_count": 14,
     "metadata": {},
     "output_type": "execute_result"
    }
   ],
   "source": [
    "heavy_data.isnull().values.any()"
   ]
  },
  {
   "cell_type": "code",
   "execution_count": 16,
   "metadata": {},
   "outputs": [
    {
     "data": {
      "text/plain": [
       "(62204, 2)"
      ]
     },
     "execution_count": 16,
     "metadata": {},
     "output_type": "execute_result"
    }
   ],
   "source": [
    "heavy_data.shape"
   ]
  },
  {
   "cell_type": "code",
   "execution_count": 17,
   "metadata": {},
   "outputs": [],
   "source": [
    "lst = heavy_data.columns[heavy_data.isna().all()].tolist()\n",
    "lst"
   ]
  },
  {
   "cell_type": "code",
   "execution_count": 21,
   "metadata": {},
   "outputs": [
    {
     "data": {
      "text/html": [
       "<div>\n",
       "<style scoped>\n",
       "    .dataframe tbody tr th:only-of-type {\n",
       "        vertical-align: middle;\n",
       "    }\n",
       "\n",
       "    .dataframe tbody tr th {\n",
       "        vertical-align: top;\n",
       "    }\n",
       "\n",
       "    .dataframe thead th {\n",
       "        text-align: right;\n",
       "    }\n",
       "</style>\n",
       "<table border=\"1\" class=\"dataframe\">\n",
       "  <thead>\n",
       "    <tr style=\"text-align: right;\">\n",
       "      <th></th>\n",
       "      <th>doc_cat</th>\n",
       "      <th>data</th>\n",
       "    </tr>\n",
       "  </thead>\n",
       "  <tbody>\n",
       "    <tr>\n",
       "      <td>835</td>\n",
       "      <td>BINDER</td>\n",
       "      <td>NaN</td>\n",
       "    </tr>\n",
       "    <tr>\n",
       "      <td>2572</td>\n",
       "      <td>POLICY CHANGE</td>\n",
       "      <td>NaN</td>\n",
       "    </tr>\n",
       "    <tr>\n",
       "      <td>2579</td>\n",
       "      <td>BINDER</td>\n",
       "      <td>NaN</td>\n",
       "    </tr>\n",
       "    <tr>\n",
       "      <td>3482</td>\n",
       "      <td>BINDER</td>\n",
       "      <td>NaN</td>\n",
       "    </tr>\n",
       "    <tr>\n",
       "      <td>5019</td>\n",
       "      <td>BINDER</td>\n",
       "      <td>NaN</td>\n",
       "    </tr>\n",
       "    <tr>\n",
       "      <td>5748</td>\n",
       "      <td>BINDER</td>\n",
       "      <td>NaN</td>\n",
       "    </tr>\n",
       "    <tr>\n",
       "      <td>6519</td>\n",
       "      <td>POLICY CHANGE</td>\n",
       "      <td>NaN</td>\n",
       "    </tr>\n",
       "    <tr>\n",
       "      <td>14240</td>\n",
       "      <td>BINDER</td>\n",
       "      <td>NaN</td>\n",
       "    </tr>\n",
       "    <tr>\n",
       "      <td>18307</td>\n",
       "      <td>POLICY CHANGE</td>\n",
       "      <td>NaN</td>\n",
       "    </tr>\n",
       "    <tr>\n",
       "      <td>19999</td>\n",
       "      <td>POLICY CHANGE</td>\n",
       "      <td>NaN</td>\n",
       "    </tr>\n",
       "    <tr>\n",
       "      <td>21475</td>\n",
       "      <td>BILL</td>\n",
       "      <td>NaN</td>\n",
       "    </tr>\n",
       "    <tr>\n",
       "      <td>22102</td>\n",
       "      <td>BINDER</td>\n",
       "      <td>NaN</td>\n",
       "    </tr>\n",
       "    <tr>\n",
       "      <td>24441</td>\n",
       "      <td>BILL</td>\n",
       "      <td>NaN</td>\n",
       "    </tr>\n",
       "    <tr>\n",
       "      <td>26464</td>\n",
       "      <td>POLICY CHANGE</td>\n",
       "      <td>NaN</td>\n",
       "    </tr>\n",
       "    <tr>\n",
       "      <td>27350</td>\n",
       "      <td>BILL</td>\n",
       "      <td>NaN</td>\n",
       "    </tr>\n",
       "    <tr>\n",
       "      <td>28149</td>\n",
       "      <td>BINDER</td>\n",
       "      <td>NaN</td>\n",
       "    </tr>\n",
       "    <tr>\n",
       "      <td>28385</td>\n",
       "      <td>BINDER</td>\n",
       "      <td>NaN</td>\n",
       "    </tr>\n",
       "    <tr>\n",
       "      <td>29766</td>\n",
       "      <td>REINSTATEMENT NOTICE</td>\n",
       "      <td>NaN</td>\n",
       "    </tr>\n",
       "    <tr>\n",
       "      <td>30090</td>\n",
       "      <td>BINDER</td>\n",
       "      <td>NaN</td>\n",
       "    </tr>\n",
       "    <tr>\n",
       "      <td>30515</td>\n",
       "      <td>BILL</td>\n",
       "      <td>NaN</td>\n",
       "    </tr>\n",
       "    <tr>\n",
       "      <td>34059</td>\n",
       "      <td>BINDER</td>\n",
       "      <td>NaN</td>\n",
       "    </tr>\n",
       "    <tr>\n",
       "      <td>34205</td>\n",
       "      <td>POLICY CHANGE</td>\n",
       "      <td>NaN</td>\n",
       "    </tr>\n",
       "    <tr>\n",
       "      <td>34803</td>\n",
       "      <td>BILL</td>\n",
       "      <td>NaN</td>\n",
       "    </tr>\n",
       "    <tr>\n",
       "      <td>37761</td>\n",
       "      <td>BINDER</td>\n",
       "      <td>NaN</td>\n",
       "    </tr>\n",
       "    <tr>\n",
       "      <td>40520</td>\n",
       "      <td>DECLARATION</td>\n",
       "      <td>NaN</td>\n",
       "    </tr>\n",
       "    <tr>\n",
       "      <td>40967</td>\n",
       "      <td>BINDER</td>\n",
       "      <td>NaN</td>\n",
       "    </tr>\n",
       "    <tr>\n",
       "      <td>41175</td>\n",
       "      <td>POLICY CHANGE</td>\n",
       "      <td>NaN</td>\n",
       "    </tr>\n",
       "    <tr>\n",
       "      <td>41485</td>\n",
       "      <td>BINDER</td>\n",
       "      <td>NaN</td>\n",
       "    </tr>\n",
       "    <tr>\n",
       "      <td>41960</td>\n",
       "      <td>CANCELLATION NOTICE</td>\n",
       "      <td>NaN</td>\n",
       "    </tr>\n",
       "    <tr>\n",
       "      <td>43168</td>\n",
       "      <td>POLICY CHANGE</td>\n",
       "      <td>NaN</td>\n",
       "    </tr>\n",
       "    <tr>\n",
       "      <td>44694</td>\n",
       "      <td>BILL</td>\n",
       "      <td>NaN</td>\n",
       "    </tr>\n",
       "    <tr>\n",
       "      <td>46552</td>\n",
       "      <td>BINDER</td>\n",
       "      <td>NaN</td>\n",
       "    </tr>\n",
       "    <tr>\n",
       "      <td>47088</td>\n",
       "      <td>BILL</td>\n",
       "      <td>NaN</td>\n",
       "    </tr>\n",
       "    <tr>\n",
       "      <td>47541</td>\n",
       "      <td>BILL</td>\n",
       "      <td>NaN</td>\n",
       "    </tr>\n",
       "    <tr>\n",
       "      <td>49387</td>\n",
       "      <td>CANCELLATION NOTICE</td>\n",
       "      <td>NaN</td>\n",
       "    </tr>\n",
       "    <tr>\n",
       "      <td>49428</td>\n",
       "      <td>BINDER</td>\n",
       "      <td>NaN</td>\n",
       "    </tr>\n",
       "    <tr>\n",
       "      <td>50101</td>\n",
       "      <td>BINDER</td>\n",
       "      <td>NaN</td>\n",
       "    </tr>\n",
       "    <tr>\n",
       "      <td>52365</td>\n",
       "      <td>BINDER</td>\n",
       "      <td>NaN</td>\n",
       "    </tr>\n",
       "    <tr>\n",
       "      <td>53404</td>\n",
       "      <td>POLICY CHANGE</td>\n",
       "      <td>NaN</td>\n",
       "    </tr>\n",
       "    <tr>\n",
       "      <td>53650</td>\n",
       "      <td>POLICY CHANGE</td>\n",
       "      <td>NaN</td>\n",
       "    </tr>\n",
       "    <tr>\n",
       "      <td>57143</td>\n",
       "      <td>BINDER</td>\n",
       "      <td>NaN</td>\n",
       "    </tr>\n",
       "    <tr>\n",
       "      <td>58055</td>\n",
       "      <td>BILL</td>\n",
       "      <td>NaN</td>\n",
       "    </tr>\n",
       "    <tr>\n",
       "      <td>60433</td>\n",
       "      <td>BINDER</td>\n",
       "      <td>NaN</td>\n",
       "    </tr>\n",
       "    <tr>\n",
       "      <td>60890</td>\n",
       "      <td>POLICY CHANGE</td>\n",
       "      <td>NaN</td>\n",
       "    </tr>\n",
       "    <tr>\n",
       "      <td>61014</td>\n",
       "      <td>BINDER</td>\n",
       "      <td>NaN</td>\n",
       "    </tr>\n",
       "  </tbody>\n",
       "</table>\n",
       "</div>"
      ],
      "text/plain": [
       "                    doc_cat data\n",
       "835                  BINDER  NaN\n",
       "2572          POLICY CHANGE  NaN\n",
       "2579                 BINDER  NaN\n",
       "3482                 BINDER  NaN\n",
       "5019                 BINDER  NaN\n",
       "5748                 BINDER  NaN\n",
       "6519          POLICY CHANGE  NaN\n",
       "14240                BINDER  NaN\n",
       "18307         POLICY CHANGE  NaN\n",
       "19999         POLICY CHANGE  NaN\n",
       "21475                  BILL  NaN\n",
       "22102                BINDER  NaN\n",
       "24441                  BILL  NaN\n",
       "26464         POLICY CHANGE  NaN\n",
       "27350                  BILL  NaN\n",
       "28149                BINDER  NaN\n",
       "28385                BINDER  NaN\n",
       "29766  REINSTATEMENT NOTICE  NaN\n",
       "30090                BINDER  NaN\n",
       "30515                  BILL  NaN\n",
       "34059                BINDER  NaN\n",
       "34205         POLICY CHANGE  NaN\n",
       "34803                  BILL  NaN\n",
       "37761                BINDER  NaN\n",
       "40520           DECLARATION  NaN\n",
       "40967                BINDER  NaN\n",
       "41175         POLICY CHANGE  NaN\n",
       "41485                BINDER  NaN\n",
       "41960   CANCELLATION NOTICE  NaN\n",
       "43168         POLICY CHANGE  NaN\n",
       "44694                  BILL  NaN\n",
       "46552                BINDER  NaN\n",
       "47088                  BILL  NaN\n",
       "47541                  BILL  NaN\n",
       "49387   CANCELLATION NOTICE  NaN\n",
       "49428                BINDER  NaN\n",
       "50101                BINDER  NaN\n",
       "52365                BINDER  NaN\n",
       "53404         POLICY CHANGE  NaN\n",
       "53650         POLICY CHANGE  NaN\n",
       "57143                BINDER  NaN\n",
       "58055                  BILL  NaN\n",
       "60433                BINDER  NaN\n",
       "60890         POLICY CHANGE  NaN\n",
       "61014                BINDER  NaN"
      ]
     },
     "execution_count": 21,
     "metadata": {},
     "output_type": "execute_result"
    }
   ],
   "source": [
    "#import pandas as pd  \n",
    "    \n",
    "# making data frame from csv file  \n",
    "#data = pd.read_csv(\"employees.csv\")  \n",
    "    \n",
    "# creating bool series True for NaN values  \n",
    "bool_series = pd.isnull(heavy_data[\"data\"])  \n",
    "    \n",
    "# filtering data  \n",
    "# displaying data only with Gender = NaN  \n",
    "heavy_data[bool_series]  "
   ]
  },
  {
   "cell_type": "code",
   "execution_count": 25,
   "metadata": {},
   "outputs": [],
   "source": [
    "heavy_data=heavy_data.dropna() "
   ]
  },
  {
   "cell_type": "code",
   "execution_count": 26,
   "metadata": {},
   "outputs": [
    {
     "data": {
      "text/plain": [
       "(62159, 2)"
      ]
     },
     "execution_count": 26,
     "metadata": {},
     "output_type": "execute_result"
    }
   ],
   "source": [
    "heavy_data.shape"
   ]
  },
  {
   "cell_type": "code",
   "execution_count": 27,
   "metadata": {},
   "outputs": [
    {
     "data": {
      "text/html": [
       "<div>\n",
       "<style scoped>\n",
       "    .dataframe tbody tr th:only-of-type {\n",
       "        vertical-align: middle;\n",
       "    }\n",
       "\n",
       "    .dataframe tbody tr th {\n",
       "        vertical-align: top;\n",
       "    }\n",
       "\n",
       "    .dataframe thead th {\n",
       "        text-align: right;\n",
       "    }\n",
       "</style>\n",
       "<table border=\"1\" class=\"dataframe\">\n",
       "  <thead>\n",
       "    <tr style=\"text-align: right;\">\n",
       "      <th></th>\n",
       "      <th>doc_cat</th>\n",
       "      <th>data</th>\n",
       "    </tr>\n",
       "  </thead>\n",
       "  <tbody>\n",
       "    <tr>\n",
       "      <td>count</td>\n",
       "      <td>62159</td>\n",
       "      <td>62159</td>\n",
       "    </tr>\n",
       "    <tr>\n",
       "      <td>unique</td>\n",
       "      <td>14</td>\n",
       "      <td>60176</td>\n",
       "    </tr>\n",
       "    <tr>\n",
       "      <td>top</td>\n",
       "      <td>BILL</td>\n",
       "      <td>bf064c332aa1 079935e500e5 1a4dd36c6de0 7efa289...</td>\n",
       "    </tr>\n",
       "    <tr>\n",
       "      <td>freq</td>\n",
       "      <td>18959</td>\n",
       "      <td>11</td>\n",
       "    </tr>\n",
       "  </tbody>\n",
       "</table>\n",
       "</div>"
      ],
      "text/plain": [
       "       doc_cat                                               data\n",
       "count    62159                                              62159\n",
       "unique      14                                              60176\n",
       "top       BILL  bf064c332aa1 079935e500e5 1a4dd36c6de0 7efa289...\n",
       "freq     18959                                                 11"
      ]
     },
     "execution_count": 27,
     "metadata": {},
     "output_type": "execute_result"
    }
   ],
   "source": [
    "heavy_data.describe()"
   ]
  },
  {
   "cell_type": "code",
   "execution_count": 28,
   "metadata": {},
   "outputs": [
    {
     "data": {
      "text/html": [
       "<div>\n",
       "<style scoped>\n",
       "    .dataframe tbody tr th:only-of-type {\n",
       "        vertical-align: middle;\n",
       "    }\n",
       "\n",
       "    .dataframe tbody tr th {\n",
       "        vertical-align: top;\n",
       "    }\n",
       "\n",
       "    .dataframe thead th {\n",
       "        text-align: right;\n",
       "    }\n",
       "</style>\n",
       "<table border=\"1\" class=\"dataframe\">\n",
       "  <thead>\n",
       "    <tr style=\"text-align: right;\">\n",
       "      <th></th>\n",
       "      <th>doc_cat</th>\n",
       "      <th>data</th>\n",
       "    </tr>\n",
       "  </thead>\n",
       "  <tbody>\n",
       "  </tbody>\n",
       "</table>\n",
       "</div>"
      ],
      "text/plain": [
       "Empty DataFrame\n",
       "Columns: [doc_cat, data]\n",
       "Index: []"
      ]
     },
     "execution_count": 28,
     "metadata": {},
     "output_type": "execute_result"
    }
   ],
   "source": [
    "bool_series = pd.isnull(heavy_data[\"data\"])  \n",
    "    \n",
    "# filtering data  \n",
    "# displaying data only with Gender = NaN  \n",
    "heavy_data[bool_series]  #no more nulls"
   ]
  },
  {
   "cell_type": "code",
   "execution_count": 29,
   "metadata": {},
   "outputs": [
    {
     "data": {
      "text/plain": [
       "BILL                       18959\n",
       "POLICY CHANGE              10616\n",
       "CANCELLATION NOTICE         9729\n",
       "BINDER                      8952\n",
       "DELETION OF INTEREST        4826\n",
       "REINSTATEMENT NOTICE        4367\n",
       "DECLARATION                  967\n",
       "CHANGE ENDORSEMENT           889\n",
       "RETURNED CHECK               749\n",
       "EXPIRATION NOTICE            734\n",
       "NON-RENEWAL NOTICE           624\n",
       "BILL BINDER                  289\n",
       "INTENT TO CANCEL NOTICE      229\n",
       "APPLICATION                  229\n",
       "Name: doc_cat, dtype: int64"
      ]
     },
     "execution_count": 29,
     "metadata": {},
     "output_type": "execute_result"
    }
   ],
   "source": [
    "heavy_data.doc_cat.value_counts()"
   ]
  },
  {
   "cell_type": "code",
   "execution_count": null,
   "metadata": {},
   "outputs": [],
   "source": []
  }
 ],
 "metadata": {
  "kernelspec": {
   "display_name": "Python 3",
   "language": "python",
   "name": "python3"
  },
  "language_info": {
   "codemirror_mode": {
    "name": "ipython",
    "version": 3
   },
   "file_extension": ".py",
   "mimetype": "text/x-python",
   "name": "python",
   "nbconvert_exporter": "python",
   "pygments_lexer": "ipython3",
   "version": "3.8.3"
  }
 },
 "nbformat": 4,
 "nbformat_minor": 2
}
